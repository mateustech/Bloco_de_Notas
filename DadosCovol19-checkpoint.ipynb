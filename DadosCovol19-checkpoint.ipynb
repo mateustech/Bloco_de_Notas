{	
 "cells": [	
  {	
   "cell_type": "code",	
   "execution_count": 1,	
   "metadata": {},	
   "outputs": [],	
   "source": [	
    "import requests\n",	
    "import pandas as pd\n",	
    "import numpy as np\n",	
    "import matplotlib.pyplot"	
   ]	
  },	
  {	
   "cell_type": "code",	
   "execution_count": 8,	
   "metadata": {},	
   "outputs": [	
    {	
     "name": "stdout",	
     "output_type": "stream",	
     "text": [	
      "Sucess -  200\n"	
     ]	
    }	
   ],	
   "source": [	
    "def loadVol():\n",	
    "    try:\n",	
    "        r = requests.get('https://apirest-covol19.herokuapp.com/voluntariarse/voluntarios')\n",	
    "        print('Sucess - ', r.status_code)\n",	
    "        return r.json()\n",	
    "    except:\n",	
    "        print(\"Deu Ruim Man\")\n",	
    "        print(\"Error - \", r.status_code)\n",	
    "        return\n",	
    "def takeCidades(data):\n",	
    "    Cidades = []\n",	
    "    for i in data:\n",	
    "        Cidades.append((i['cidade']))\n",	
    "    return Cidades        \n",	
    "\n",	
    "def ClearCidades(ListCity):\n",	
    "    l = []\n",	
    "    for i in ListCity:\n",	
    "        if i not in l:\n",	
    "            if (i != \"string\" and i != \"Teste\" and i != \"teste\" and i != \"\"):\n",	
    "                l.append(i)\n",	
    "            \n",	
    "    return l\n",	
    "        \n",	
    "def CountVoluntarios(ListCity,data):\n",	
    "    tam = int(len(ListCity))\n",	
    "    VolCity = []\n",	
    "    for i in range(tam):\n",	
    "        cont = int(0)\n",	
    "        for v in data:\n",	
    "            if(v['cidade'] == ListCity[i]):\n",	
    "                cont = int(cont + 1)\n",	
    "                \n",	
    "        VolCity.append(cont)\n",	
    "    return VolCity\n",	
    "        \n",	
    "def OrdenaLista(ListVolCity, ListCity):\n",	
    "    for i in range(len(ListVolCity)):\n",	
    "        aux = ListVolCity[i]\n",	
    "        auxC = ListCity[i]\n",	
    "        k = i\n",	
    "        while k > 0 and aux < ListVolCity[k-1]:\n",	
    "            ListVolCity[k] = ListVolCity[k-1]\n",	
    "            ListCity[k] = ListCity[k-1]\n",	
    "            k = k - 1\n",	
    "        ListVolCity[k] = aux\n",	
    "        ListCity[k] = auxC\n",	
    "    \n",	
    "response = loadVol()\n",	
    "data = np.array(response)\n",	
    "ListCity = takeCidades(data)\n",	
    "ListCity = ClearCidades(ListCity)\n",	
    "ListVolCity = CountVoluntarios(ListCity,data)\n",	
    "OrdenaLista(ListVolCity, ListCity)\n",	
    "#len(data) qtd voluntarios"	
   ]	
  },	
  {	
   "cell_type": "code",	
   "execution_count": 9,	
   "metadata": {},	
   "outputs": [	
    {	
     "data": {	
      "text/plain": [	
       "[<matplotlib.lines.Line2D at 0xfe35b08>]"	
      ]	
     },	
     "execution_count": 9,	
     "metadata": {},	
     "output_type": "execute_result"	
    },	
    {	
     "data": {	
      "image/png": "[encoded data removed]",	
      "text/plain": [	
       "<Figure size 432x288 with 1 Axes>"	
      ]	
     },	
     "metadata": {	
      "needs_background": "light"	
     },	
     "output_type": "display_data"	
    }	
   ],	
   "source": [	
    "matplotlib.pyplot.title('Quantidade De Voluntarios Por Cidade')\n",	
    "matplotlib.pyplot.xlabel('Cidades')\n",	
    "matplotlib.pyplot.ylabel('Quantidade de Voluntarios')\n",	
    "matplotlib.pyplot.plot(ListCity[(len(ListCity) - 5):len(ListCity)], ListVolCity[(len(ListVolCity) - 5):len(ListVolCity)])\n"	
   ]	
  },	
  {	
   "cell_type": "code",	
   "execution_count": null,	
   "metadata": {},	
   "outputs": [],	
   "source": []	
  }	
 ],	
 "metadata": {	
  "kernelspec": {	
   "display_name": "Python 3",	
   "language": "python",	
   "name": "python3"	
  },	
  "language_info": {	
   "codemirror_mode": {	
    "name": "ipython",	
    "version": 3	
   },	
   "file_extension": ".py",	
   "mimetype": "text/x-python",	
   "name": "python",	
   "nbconvert_exporter": "python",	
   "pygments_lexer": "ipython3",	
   "version": "3.7.6"	
  }	
 },	
 "nbformat": 4,	
 "nbformat_minor": 4	
}
